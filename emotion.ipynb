{
 "cells": [
  {
   "cell_type": "code",
   "execution_count": 1,
   "id": "df4d5b35",
   "metadata": {},
   "outputs": [],
   "source": [
    "import pandas as pd\n",
    "import numpy as np\n",
    "import matplotlib.pyplot as plt\n",
    "import seaborn as sns\n",
    "import tensorflow as tf\n",
    "import keras\n",
    "import os\n",
    "import cv2 #computer vision\n",
    "import matplotlib.pyplot as plt"
   ]
  },
  {
   "cell_type": "code",
   "execution_count": 46,
   "id": "dbe18ac2",
   "metadata": {},
   "outputs": [],
   "source": [
    "path1=\"D:\\data set\\cnn\\CNN dataset\\emotion\"\n",
    "cate=['happiness','sadness',]"
   ]
  },
  {
   "cell_type": "code",
   "execution_count": 47,
   "id": "43e162c2",
   "metadata": {},
   "outputs": [],
   "source": [
    "image_size=70\n",
    "input_image=[]\n",
    "for i in cate:\n",
    "    folders=os.path.join(path1,i)\n",
    "    label=cate.index(i)\n",
    "    for image in os.listdir(folders):\n",
    "        image_path=os.path.join(folders,image)\n",
    "        image_array=cv2.imread(image_path)\n",
    "        image_array=cv2.resize(image_array,(image_size,image_size))\n",
    "        input_image.append([image_array,label])"
   ]
  },
  {
   "cell_type": "code",
   "execution_count": 48,
   "id": "bace1bc1",
   "metadata": {},
   "outputs": [
    {
     "data": {
      "text/plain": [
       "9945"
      ]
     },
     "execution_count": 48,
     "metadata": {},
     "output_type": "execute_result"
    }
   ],
   "source": [
    "len(input_image)"
   ]
  },
  {
   "cell_type": "code",
   "execution_count": 55,
   "id": "a5de6301",
   "metadata": {},
   "outputs": [],
   "source": [
    "np.random.shuffle(input_image)"
   ]
  },
  {
   "cell_type": "code",
   "execution_count": 56,
   "id": "79835f66",
   "metadata": {},
   "outputs": [],
   "source": [
    "X=[]\n",
    "Y=[]\n",
    "\n",
    "for X_values,labels in input_image:\n",
    "    X.append(X_values)\n",
    "    Y.append(labels)\n",
    "    "
   ]
  },
  {
   "cell_type": "code",
   "execution_count": 57,
   "id": "50d07a12",
   "metadata": {},
   "outputs": [
    {
     "data": {
      "text/plain": [
       "<matplotlib.image.AxesImage at 0x17b8a894910>"
      ]
     },
     "execution_count": 57,
     "metadata": {},
     "output_type": "execute_result"
    },
    {
     "data": {
      "image/png": "[encoded data removed]",
      "text/plain": [
       "<Figure size 432x288 with 1 Axes>"
      ]
     },
     "metadata": {
      "needs_background": "light"
     },
     "output_type": "display_data"
    }
   ],
   "source": [
    "plt.imshow(X[1])"
   ]
  },
  {
   "cell_type": "code",
   "execution_count": 58,
   "id": "e4db9bce",
   "metadata": {},
   "outputs": [],
   "source": [
    "X=np.array(X)\n",
    "Y=np.array(Y)"
   ]
  },
  {
   "cell_type": "code",
   "execution_count": 59,
   "id": "5f007a30",
   "metadata": {},
   "outputs": [],
   "source": [
    "X=X/255 "
   ]
  },
  {
   "cell_type": "code",
   "execution_count": 60,
   "id": "1627d340",
   "metadata": {},
   "outputs": [],
   "source": [
    "from keras.models import Sequential\n",
    "from keras.layers import Conv2D,MaxPool2D,Flatten,Dense,Dropout\n",
    "from keras.utils.np_utils import to_categorical"
   ]
  },
  {
   "cell_type": "code",
   "execution_count": 61,
   "id": "42f37da8",
   "metadata": {},
   "outputs": [],
   "source": [
    "model=Sequential()\n",
    "\n",
    "model.add(Conv2D(filters=264,kernel_size=(3,3),activation='relu'))\n",
    "model.add(MaxPool2D(pool_size=(2,2)))\n",
    "\n",
    "model.add(Conv2D(filters=164,kernel_size=(3,3),activation='relu'))\n",
    "model.add(MaxPool2D(pool_size=(2,2)))\n",
    "\n",
    "\n",
    "model.add(Flatten())\n",
    "\n",
    "model.add(Dense(320,activation='relu',input_shape=X.shape[1:]))\n",
    "model.add(Dropout(0.25))\n",
    "\n",
    "model.add(Dense(2,activation='softmax'))\n",
    "\n",
    "model.compile(optimizer='adam',loss='sparse_categorical_crossentropy',metrics=['accuracy'])"
   ]
  },
  {
   "cell_type": "code",
   "execution_count": 62,
   "id": "922ea07d",
   "metadata": {},
   "outputs": [
    {
     "name": "stdout",
     "output_type": "stream",
     "text": [
      "Epoch 1/20\n",
      "49/49 [==============================] - 153s 3s/step - loss: 0.8816 - accuracy: 0.5380 - val_loss: 0.6745 - val_accuracy: 0.5400\n",
      "Epoch 2/20\n",
      "49/49 [==============================] - 159s 3s/step - loss: 0.6196 - accuracy: 0.6593 - val_loss: 0.5552 - val_accuracy: 0.7285\n",
      "Epoch 3/20\n",
      "49/49 [==============================] - 172s 4s/step - loss: 0.5028 - accuracy: 0.7609 - val_loss: 0.5505 - val_accuracy: 0.7134\n",
      "Epoch 4/20\n",
      "49/49 [==============================] - 169s 3s/step - loss: 0.4718 - accuracy: 0.7775 - val_loss: 0.4393 - val_accuracy: 0.7873\n",
      "Epoch 5/20\n",
      "49/49 [==============================] - 164s 3s/step - loss: 0.4288 - accuracy: 0.8018 - val_loss: 0.4844 - val_accuracy: 0.7592\n",
      "Epoch 6/20\n",
      "49/49 [==============================] - 177s 4s/step - loss: 0.4016 - accuracy: 0.8183 - val_loss: 0.4064 - val_accuracy: 0.8175\n",
      "Epoch 7/20\n",
      "49/49 [==============================] - 177s 4s/step - loss: 0.3772 - accuracy: 0.8313 - val_loss: 0.3921 - val_accuracy: 0.8140\n",
      "Epoch 8/20\n",
      "49/49 [==============================] - 176s 4s/step - loss: 0.3534 - accuracy: 0.8409 - val_loss: 0.3912 - val_accuracy: 0.8160\n",
      "Epoch 9/20\n",
      "49/49 [==============================] - 170s 3s/step - loss: 0.3436 - accuracy: 0.8443 - val_loss: 0.3744 - val_accuracy: 0.8276\n",
      "Epoch 10/20\n",
      "49/49 [==============================] - 163s 3s/step - loss: 0.3217 - accuracy: 0.8606 - val_loss: 0.3710 - val_accuracy: 0.8316\n",
      "Epoch 11/20\n",
      "49/49 [==============================] - 166s 3s/step - loss: 0.2914 - accuracy: 0.8719 - val_loss: 0.3677 - val_accuracy: 0.8331\n",
      "Epoch 12/20\n",
      "49/49 [==============================] - 163s 3s/step - loss: 0.2748 - accuracy: 0.8835 - val_loss: 0.3582 - val_accuracy: 0.8441\n",
      "Epoch 13/20\n",
      "49/49 [==============================] - 168s 3s/step - loss: 0.2475 - accuracy: 0.8959 - val_loss: 0.3816 - val_accuracy: 0.8401\n",
      "Epoch 14/20\n",
      "49/49 [==============================] - 167s 3s/step - loss: 0.2321 - accuracy: 0.9028 - val_loss: 0.3837 - val_accuracy: 0.8472\n",
      "Epoch 15/20\n",
      "49/49 [==============================] - 168s 3s/step - loss: 0.2117 - accuracy: 0.9150 - val_loss: 0.3851 - val_accuracy: 0.8371\n",
      "Epoch 16/20\n",
      "49/49 [==============================] - 197s 4s/step - loss: 0.1787 - accuracy: 0.9311 - val_loss: 0.3930 - val_accuracy: 0.8446\n",
      "Epoch 17/20\n",
      "49/49 [==============================] - 179s 4s/step - loss: 0.1614 - accuracy: 0.9355 - val_loss: 0.4297 - val_accuracy: 0.8396\n",
      "Epoch 18/20\n",
      "49/49 [==============================] - 177s 4s/step - loss: 0.1365 - accuracy: 0.9493 - val_loss: 0.4358 - val_accuracy: 0.8411\n",
      "Epoch 19/20\n",
      "49/49 [==============================] - 178s 4s/step - loss: 0.1181 - accuracy: 0.9556 - val_loss: 0.5442 - val_accuracy: 0.8245\n",
      "Epoch 20/20\n",
      "49/49 [==============================] - 170s 3s/step - loss: 0.1063 - accuracy: 0.9624 - val_loss: 0.4880 - val_accuracy: 0.8426\n"
     ]
    },
    {
     "data": {
      "text/plain": [
       "<keras.callbacks.History at 0x17b89443b50>"
      ]
     },
     "execution_count": 62,
     "metadata": {},
     "output_type": "execute_result"
    }
   ],
   "source": [
    "model.fit(X,Y,epochs=20 ,batch_size=164,validation_split=.20)"
   ]
  },
  {
   "cell_type": "code",
   "execution_count": 63,
   "id": "bfc2aa1c",
   "metadata": {},
   "outputs": [
    {
     "data": {
      "text/plain": [
       "array([1, 0, 1, ..., 1, 0, 1], dtype=int64)"
      ]
     },
     "execution_count": 63,
     "metadata": {},
     "output_type": "execute_result"
    }
   ],
   "source": [
    "pred=model.predict(X)\n",
    "pred=np.argmax(pred , axis = 1)\n",
    "pred"
   ]
  },
  {
   "cell_type": "code",
   "execution_count": 64,
   "id": "4a916aa7",
   "metadata": {},
   "outputs": [],
   "source": [
    "from sklearn.metrics import *"
   ]
  },
  {
   "cell_type": "code",
   "execution_count": 65,
   "id": "97459a4a",
   "metadata": {},
   "outputs": [
    {
     "data": {
      "text/plain": [
       "array([[4297,  263],\n",
       "       [ 152, 5233]], dtype=int64)"
      ]
     },
     "execution_count": 65,
     "metadata": {},
     "output_type": "execute_result"
    }
   ],
   "source": [
    "tab=confusion_matrix(Y,pred)\n",
    "tab"
   ]
  },
  {
   "cell_type": "code",
   "execution_count": 66,
   "id": "6213f966",
   "metadata": {},
   "outputs": [
    {
     "data": {
      "text/plain": [
       "95.82704876822524"
      ]
     },
     "execution_count": 66,
     "metadata": {},
     "output_type": "execute_result"
    }
   ],
   "source": [
    "acc=accuracy_score(Y,pred)\n",
    "acc*100"
   ]
  },
  {
   "cell_type": "code",
   "execution_count": 67,
   "id": "fbe24690",
   "metadata": {},
   "outputs": [],
   "source": [
    "\n",
    "from keras.models import save"
   ]
  },
  {
   "cell_type": "code",
   "execution_count": 68,
   "id": "76e99586",
   "metadata": {},
   "outputs": [],
   "source": [
    "model.save(\"emotion.h5\")"
   ]
  },
  {
   "cell_type": "code",
   "execution_count": 69,
   "id": "5f690373",
   "metadata": {},
   "outputs": [],
   "source": [
    "#--------------------------------------------------------------------------------------------"
   ]
  },
  {
   "cell_type": "code",
   "execution_count": 2,
   "id": "f6c6ce2c",
   "metadata": {},
   "outputs": [],
   "source": [
    "import os\n",
    "import cv2 "
   ]
  },
  {
   "cell_type": "code",
   "execution_count": 3,
   "id": "703ad683",
   "metadata": {},
   "outputs": [],
   "source": [
    "from keras.models import load_model\n",
    "model=load_model('emotion.h5')"
   ]
  },
  {
   "cell_type": "code",
   "execution_count": 4,
   "id": "58b3cf51",
   "metadata": {},
   "outputs": [],
   "source": [
    "results={0:'happy',1:'sad'}\n",
    "GR_dict={0:(0,255,0),1:(255,255,0)}\n",
    "\n",
    "rect_size = 4\n",
    "cap = cv2.VideoCapture(0)\n",
    "haarcascade=cv2.CascadeClassifier(r\"D:\\data set\\Harcascade\\haarcascade_frontalface_alt.xml\")\n",
    "while True:\n",
    "    (rval, im) = cap.read()\n",
    "    im=cv2.flip(im,1,1) \n",
    "\n",
    "    \n",
    "    rerect_size = cv2.resize(im, (im.shape[1] // rect_size, im.shape[0] // rect_size))\n",
    "    faces = haarcascade.detectMultiScale(rerect_size)\n",
    "    for f in faces:\n",
    "        (x, y, w, h) = [v * rect_size for v in f] \n",
    "        \n",
    "        face_img = im[y:y+h, x:x+w]\n",
    "        rerect_sized=cv2.resize(face_img,(70,70))\n",
    "        normalized=rerect_sized/255.0\n",
    "        reshaped=np.reshape(normalized,(1,70,70,3))\n",
    "        reshaped = np.vstack([reshaped])\n",
    "        result=model.predict(reshaped)\n",
    "        \n",
    "        label=np.argmax(result,axis=1)[0]\n",
    "        \n",
    "        cv2.rectangle(im,(x,y),(x+w,y+h),GR_dict[label],2)\n",
    "        cv2.rectangle(im,(x,y-40),(x+w,y),GR_dict[label],-1)\n",
    "        cv2.putText(im, results[label], (x, y-10),cv2.FONT_HERSHEY_SIMPLEX,0.8,(255,0,0),2)\n",
    "\n",
    "    cv2.imshow('Liv Camera',   im)\n",
    "    key = cv2.waitKey(10)\n",
    "    if key == 27: # use the escape key\n",
    "        break\n",
    "\n",
    "cap.release()\n",
    "\n",
    "cv2.destroyAllWindows()\n",
    "\n"
   ]
  },
  {
   "cell_type": "code",
   "execution_count": null,
   "id": "fc9bdd9a",
   "metadata": {},
   "outputs": [],
   "source": []
  },
  {
   "cell_type": "code",
   "execution_count": null,
   "id": "f339e420",
   "metadata": {},
   "outputs": [],
   "source": []
  }
 ],
 "metadata": {
  "kernelspec": {
   "display_name": "Python 3",
   "language": "python",
   "name": "python3"
  },
  "language_info": {
   "codemirror_mode": {
    "name": "ipython",
    "version": 3
   },
   "file_extension": ".py",
   "mimetype": "text/x-python",
   "name": "python",
   "nbconvert_exporter": "python",
   "pygments_lexer": "ipython3",
   "version": "3.8.8"
  }
 },
 "nbformat": 4,
 "nbformat_minor": 5
}
